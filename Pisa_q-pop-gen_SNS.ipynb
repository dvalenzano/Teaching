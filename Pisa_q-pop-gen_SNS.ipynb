{
 "cells": [
  {
   "cell_type": "markdown",
   "metadata": {},
   "source": [
    "Author: **Dario Riccardo Valenzano**  \n",
    "Affiliation: Max Planck Institute for Biology of Ageing  \n",
    "Check out the Valenzano Lab [website](http://valenzano-lab.age.mpg.de)  \n",
    "\n",
    "general info about how to edit Markdown are [here](https://github.com/adam-p/markdown-here/wiki/Markdown-Cheatsheet)"
   ]
  },
  {
   "cell_type": "markdown",
   "metadata": {},
   "source": [
    "## A PRIMER FOR QUANTITATIVE AND POPULATION GENETICS - PISA, 17-21 Oct 2016"
   ]
  },
  {
   "cell_type": "markdown",
   "metadata": {},
   "source": [
    "## Day 1. Quantitative Genetics I\n",
    "\n",
    "- ### Definition of Trait\n",
    "\n",
    "A trait is a measurable phenotype - quantitative genetics mostly deals with complex traits\n",
    "\n",
    "- ### Definition of Locus\n",
    "\n",
    "A locus is a position in the genome. Different genetic markers can be used as loci (microsatellites, SNVs, RFLPs, InDels)\n",
    "\n",
    "- ### Definition of Mapping\n",
    "\n",
    "Mapping consists in identifying the loci to which a given phenotype maps to on the genome. \n",
    "\n",
    "\n"
   ]
  },
  {
   "cell_type": "markdown",
   "metadata": {},
   "source": [
    "With a single bi-allelic gene we have 3 possible genotypes: AA, Aa, aa"
   ]
  },
  {
   "cell_type": "markdown",
   "metadata": {},
   "source": [
    "> **Question:** how many genotypes are there when we have 1, 2, 3, ... n genes?"
   ]
  },
  {
   "cell_type": "code",
   "execution_count": 13,
   "metadata": {
    "collapsed": true
   },
   "outputs": [],
   "source": [
    "import numpy as np\n",
    "import matplotlib.pyplot as plt; plt.rcdefaults()\n",
    "import matplotlib.mlab as mlab\n",
    "import math\n",
    "%matplotlib inline"
   ]
  },
  {
   "cell_type": "code",
   "execution_count": 13,
   "metadata": {
    "collapsed": false
   },
   "outputs": [
    {
     "data": {
      "image/png": "[encoded data removed]",
      "text/plain": [
       "<matplotlib.figure.Figure at 0x109d87550>"
      ]
     },
     "metadata": {},
     "output_type": "display_data"
    }
   ],
   "source": [
    "x = np.arange(0., 15., 0.2)\n",
    "plt.plot(x, x**3, 'g^')\n",
    "\n",
    "plt.xlabel('Genes')\n",
    "plt.ylabel('Genotypes')\n",
    "plt.title('How many genotypes are possible?')\n",
    "plt.grid(True)\n",
    "\n",
    "plt.show()"
   ]
  },
  {
   "cell_type": "markdown",
   "metadata": {},
   "source": [
    "The above plot shows that given n genes, there are n<sup>3</sup> possible genotypes"
   ]
  },
  {
   "cell_type": "markdown",
   "metadata": {},
   "source": [
    "Let's assume we have two genes: A and B  \n",
    "*A* gives 4 phenotypic units, while *a* gives 2  \n",
    "*B* gives 2 units, while *b* gives 1  \n",
    "  \n",
    "9 possible genotypes are available, and their distribution is as follows:  \n",
    "\n",
    "|Genotype| Frequency       | Phenotype |\n",
    "|:------:| :----: | :---: |\n",
    "| AABB | 1 | 12 |\n",
    "| AABb | 2 | 11 |\n",
    "| AAbb | 1 | 10 |\n",
    "| AaBB | 2 | 10 |\n",
    "| AaBb | 4 |  9 |\n",
    "| Aabb | 2 |  8 |\n",
    "| aaBB | 1 |  8 |\n",
    "| aaBb | 2 |  7 |\n",
    "| aabb | 1 |  6 |"
   ]
  },
  {
   "cell_type": "code",
   "execution_count": 26,
   "metadata": {
    "collapsed": false
   },
   "outputs": [
    {
     "data": {
      "image/png": "[encoded data removed]",
      "text/plain": [
       "<matplotlib.figure.Figure at 0x105c61710>"
      ]
     },
     "metadata": {},
     "output_type": "display_data"
    }
   ],
   "source": [
    "x = (6.0, 7.0, 8.0, 9.0, 10.0, 11.0, 12.0)\n",
    "y = (1.0, 2.0, 3.0, 4.0, 3.0, 2.0, 1.0)\n",
    "\n",
    "xlabs = ('aabb', 'aaBb', 'aaBB/Aabb', 'AaBb', 'AaBB', 'AAbb', 'AABB')\n",
    "\n",
    "fig = plt.figure(figsize=(12,6))\n",
    "\n",
    "plt.bar(x, y, align='center', alpha=0.5, color = 'g')\n",
    "\n",
    "plt.xticks(x, xlabs)\n",
    "plt.ylabel('Frequency')\n",
    "plt.title('Phenotype distribution per genotype')\n",
    "plt.ylim((0,5))\n",
    "\n",
    "plt.show()"
   ]
  },
  {
   "cell_type": "markdown",
   "metadata": {},
   "source": [
    "The above distribution is typical for quantitative traits. Each genotype has a different phenotypic value."
   ]
  },
  {
   "cell_type": "markdown",
   "metadata": {},
   "source": [
    "### Breaking down phenotypic variance "
   ]
  },
  {
   "cell_type": "markdown",
   "metadata": {},
   "source": [
    "V<sub>P</sub> = V<sub>G</sub> + V<sub>E</sub> + V<sub>EG</sub>  \n",
    "V<sub>G</sub> = V<sub>A</sub> + V<sub>D</sub> + V<sub>I</sub>"
   ]
  },
  {
   "cell_type": "markdown",
   "metadata": {},
   "source": [
    "**Heritability** is a measure of how much the genetic variance weighs in the phenotypic variance."
   ]
  },
  {
   "cell_type": "markdown",
   "metadata": {},
   "source": [
    "h<sup>2</sup> = V<sub>G</sub>/V<sub>P</sub> Broad sense heritability  \n",
    "h<sup>2</sup> = V<sub>A</sub>/V<sub>P</sub> Sensu strictu heritability  \n",
    "  \n",
    "Offspring phenotype can be estimated using h<sup>2</sup>  \n",
    "  \n",
    "<b>P<sub>off</sub> = P<sub>avg</sub> + h<sup>2</sup>(P<sub>par</sub> - P<sub>avg</sub>)  </b>\n",
    "   \n",
    "P<sub>off</sub>: Expected offspring phenotype value  \n",
    "P<sub>avg</sub>: Population phenotype mean value  \n",
    "P<sub>par</sub>: Mean parental phenotype (P<sub>mother</sub> + P<sub>father</sub>)/2  \n",
    "\n",
    "\n"
   ]
  },
  {
   "cell_type": "markdown",
   "metadata": {},
   "source": [
    "> **Question:** Can we say anything about the complexity of the trait based how high or low heritability is?"
   ]
  },
  {
   "cell_type": "markdown",
   "metadata": {},
   "source": [
    "Hint: height is highly heritable (80%) but it is extremely complex\n",
    "  \n",
    "**Regression towards the mean: a mediocre's man great son, a great man's mediocre son**\n"
   ]
  },
  {
   "cell_type": "markdown",
   "metadata": {},
   "source": [
    "## Day 2. Quantitative Genetics, II - mapping; Genetic drift\n",
    "\n",
    "### Maximum likelyhood and applications in genetic mapping"
   ]
  },
  {
   "cell_type": "markdown",
   "metadata": {},
   "source": [
    "It's based on observed frequencies"
   ]
  },
  {
   "cell_type": "markdown",
   "metadata": {},
   "source": [
    "The probability of k events occurring (given p) is:  \n",
    "$P(x=k|p) = {{n}\\choose{k}}p^{k}(1-p)^{n-k}$  \n",
    "  \n",
    "The probability to have 8 heads over 10 coin tosses:  \n",
    "$P(h=8/10|0.5) = {{10}\\choose{8}}0.5^{8}(1-05)^{10-8} = 0.044$  \n",
    "  \n",
    "Can this help us in the case of counting recombinants?  "
   ]
  },
  {
   "cell_type": "markdown",
   "metadata": {},
   "source": [
    "> **Question:**   \n",
    "> Can we know from observations whether a coin/die is fair?   \n",
    "> Is 56/100 heads a likely outcome from a fair coin?"
   ]
  },
  {
   "cell_type": "markdown",
   "metadata": {},
   "source": [
    "*Likelihood Ratio Test (LRT)*: Comparing an observed frequency to an expected one"
   ]
  },
  {
   "cell_type": "markdown",
   "metadata": {},
   "source": [
    "Maximum likelihood estimate (MLE):  \n",
    "$p^{k}(1-p)^{n-k}$ In this case p is *observed frequency*, and k are *observed events*"
   ]
  },
  {
   "cell_type": "code",
   "execution_count": 14,
   "metadata": {
    "collapsed": false
   },
   "outputs": [
    {
     "data": {
      "image/png": "[encoded data removed]",
      "text/plain": [
       "<matplotlib.figure.Figure at 0x1052ffcd0>"
      ]
     },
     "metadata": {},
     "output_type": "display_data"
    }
   ],
   "source": [
    "mu = 0.56\n",
    "variance = 1\n",
    "sigma = math.sqrt(variance)\n",
    "x = np.linspace(-4+0.56, 4+0.56, 100)\n",
    "plt.plot(x,mlab.normpdf(x, mu, sigma))\n",
    "plt.ylim((0,0.5))\n",
    "plt.axvline(0.56, linestyle='dashed', linewidth=2)\n",
    "plt.text(0.31, -0.04, '0.56', style='italic', color='red')\n",
    "\n",
    "plt.show()"
   ]
  },
  {
   "cell_type": "markdown",
   "metadata": {},
   "source": [
    "$L(p=0.5|data) = {{100}\\choose{56}}0.5^{56}(0.5)^{44} = 0.0389$  \n",
    "$L(p=0.52|data) = {{100}\\choose{56}}0.52^{56}(0.48)^{44} = 0.0581$  \n",
    "$L(p=0.56|data) = {{100}\\choose{56}}0.56^{56}(0.44)^{44} = 0.0801$  \n",
    "  \n",
    "L has indeed maximum value when p is equal to the observed frequency"
   ]
  },
  {
   "cell_type": "markdown",
   "metadata": {},
   "source": [
    "*Are therefore 56 heads sufficient to suggest that the die is unfair?*\n",
    "\n",
    "LRT = 2(log(MLE)-log(LE<sub>0.5</sub>)), distributed according to a Chi-squared distribution  \n",
    "LRT = 2(-2.524 + 3.247) = 1.446   \n",
    "This indicates no difference, 56 heads over 100 tosses is not suggestive for the coin not to be fair  "
   ]
  },
  {
   "cell_type": "markdown",
   "metadata": {},
   "source": [
    "> ** LOD SCORE **    \n",
    "> LOD = LRT&frasl;2ln10 = LRT&frasl;4.6  \n",
    "> LOD = log<sub>10</sub>(LR)"
   ]
  },
  {
   "cell_type": "markdown",
   "metadata": {},
   "source": [
    "### Genetic Drift\n",
    "\n",
    "Genetic Drift is a concept that has to do with random sampling from populations of finite size and it is key to explain fundamental deviations of real populations from the Hardy Weinberg equilibrium. Drift can be a powerful force during evolution, as it leads to loss of diversity, which has to be counterbalanced (restored) by mutation. Drift-mutation balance has been thoroughly studied by theoretical population geneticists."
   ]
  },
  {
   "cell_type": "markdown",
   "metadata": {},
   "source": [
    "> Have you ever thought how large are real populations in nature?  \n",
    "> Does evolution always happen in infinitely large populations?  \n",
    "> What is an obvious consequence of genetic drift?  "
   ]
  },
  {
   "cell_type": "code",
   "execution_count": 6,
   "metadata": {
    "collapsed": true
   },
   "outputs": [],
   "source": [
    "import random"
   ]
  },
  {
   "cell_type": "markdown",
   "metadata": {},
   "source": [
    "Legend:  \n",
    "N = drifted population size  \n",
    "p = starting frequency of major allele 'A'  \n",
    "q = 1-p starting frequency of minor allele 'a'  \n",
    "t = number of generations  \n",
    "n = size of large population to sample from  "
   ]
  },
  {
   "cell_type": "code",
   "execution_count": 3,
   "metadata": {
    "collapsed": true
   },
   "outputs": [],
   "source": [
    "def drift(p, n, N): #This first function drifts the population once\n",
    "    q = 1-p\n",
    "    np_ = int(n*p)\n",
    "    nq_ = int(n*q)\n",
    "    P_ = ('A,'*np_ + 'a,'*nq_).split(',')[:-1]\n",
    "    pp = random.sample(P_, 2*N)\n",
    "    A = float(pp.count('A'))/(2*N)\n",
    "    a = float(pp.count('a'))/(2*N)\n",
    "    return A"
   ]
  },
  {
   "cell_type": "code",
   "execution_count": 4,
   "metadata": {
    "collapsed": true
   },
   "outputs": [],
   "source": [
    "def loop(p, n, N, t): #This function loops the drift function as many times as indicated bt 't' \n",
    "    i = 0\n",
    "    ls = []\n",
    "    while i < t:\n",
    "        ls.append(drift(p, n, N))\n",
    "        p = ls[i] \n",
    "        i += 1\n",
    "    return ls"
   ]
  },
  {
   "cell_type": "markdown",
   "metadata": {},
   "source": [
    "Below, five simulations of drift sampling populations of 20 individuals each time, over 100 generations  \n",
    "Basic graphical functions [here](http://kestrel.nmt.edu/~raymond/software/python_notes/paper004.html)"
   ]
  },
  {
   "cell_type": "code",
   "execution_count": 55,
   "metadata": {
    "collapsed": false
   },
   "outputs": [],
   "source": [
    "ls = [] # define an empty list\n",
    "for i in range(5): # here you can choose how many simulations to run in parallel\n",
    "    ls.append(loop(0.5, 1000000, 20, 100)) # which is looping starting from p = 0.5, n = 1 million, N = 20 and t = 100"
   ]
  },
  {
   "cell_type": "code",
   "execution_count": null,
   "metadata": {
    "collapsed": false
   },
   "outputs": [],
   "source": [
    "# Plotting parameters\n",
    "x = range(100)\n",
    "l0 = plt.plot(x,ls[0],'b-')\n",
    "l1 = plt.plot(x,ls[1],'b-')\n",
    "l2 = plt.plot(x,ls[2],'b-')\n",
    "l3 = plt.plot(x,ls[3],'b-')\n",
    "l4 = plt.plot(x,ls[4],'b-')\n",
    "#ll = plt.legend(loc='upper left')\n",
    "lx = plt.xlabel('generations')\n",
    "ly = plt.ylabel('Frequency of A')\n",
    "ttl = plt.title('population drift - sampling to 20 individuals')\n",
    "plt.show()"
   ]
  },
  {
   "cell_type": "markdown",
   "metadata": {},
   "source": [
    "Below, five simulations of drift sampling populations of 100 individuals each time, over 100 generations"
   ]
  },
  {
   "cell_type": "code",
   "execution_count": 56,
   "metadata": {
    "collapsed": true
   },
   "outputs": [],
   "source": [
    "lz = []\n",
    "for i in range(5):\n",
    "    lz.append(loop(0.5, 1000000, 100, 500))"
   ]
  },
  {
   "cell_type": "code",
   "execution_count": 57,
   "metadata": {
    "collapsed": false
   },
   "outputs": [
    {
     "data": {
      "image/png": "[encoded data removed]",
      "text/plain": [
       "<matplotlib.figure.Figure at 0x10477a790>"
      ]
     },
     "metadata": {},
     "output_type": "display_data"
    }
   ],
   "source": [
    "x = range(500)\n",
    "l0 = plt.plot(x,lz[0],'b-')\n",
    "l1 = plt.plot(x,lz[1],'b-')\n",
    "l2 = plt.plot(x,lz[2],'b-')\n",
    "l3 = plt.plot(x,lz[3],'b-')\n",
    "l4 = plt.plot(x,lz[4],'b-')\n",
    "#ll = plt.legend(loc='upper left')\n",
    "lx = plt.xlabel('generations')\n",
    "ly = plt.ylabel('Frequency of A')\n",
    "ttl = plt.title('population drift - sampling to 100 individuals')\n",
    "plt.show()"
   ]
  },
  {
   "cell_type": "markdown",
   "metadata": {},
   "source": [
    "> If we have an hermaphroditic population, if at gene A we have *Aa*, what is the probability that the locus will stay heterozygous after t generations? "
   ]
  },
  {
   "cell_type": "markdown",
   "metadata": {},
   "source": [
    "The answer is 1/2<sup>t</sup>"
   ]
  },
  {
   "cell_type": "markdown",
   "metadata": {},
   "source": [
    "The two examples above show how drift, alone, can lead to severe allelic shifts, and that this shift is more rapid if the sampled population is small.\n",
    "You are encouraged to play with the code and try to generate novel plots to understand how population size affects allele persistance.  "
   ]
  },
  {
   "cell_type": "markdown",
   "metadata": {},
   "source": [
    "## Decay of heterozygosity"
   ]
  },
  {
   "cell_type": "markdown",
   "metadata": {
    "collapsed": true
   },
   "source": [
    "- ### Measures of genetic diversity among individuals\n",
    "\n",
    "If *p<sub>i</sub>* is the frequency of allele A<sub>i</sub>, *p<sub>i</sub><sup>2</sup>* is the frequency of A<sub>i</sub>A<sub>i</sub>.  \n",
    "The total frequency of homozygotes is $$G = \\sum_{i=1}^{k}p_{i}^2$$  \n",
    "and G can be called **homozygosity**. "
   ]
  },
  {
   "cell_type": "markdown",
   "metadata": {},
   "source": [
    "> How do we calculate heterozygosity?"
   ]
  },
  {
   "cell_type": "markdown",
   "metadata": {},
   "source": [
    "$$H = 1 - G$$ \n",
    "$$H = 1 - \\sum_{i=1}^{k}p_{i}^2$$ \n",
    "Where H is heterozygosity"
   ]
  },
  {
   "cell_type": "markdown",
   "metadata": {},
   "source": [
    "Probability that two alleles randomly drawn from the gene pool are the same (based on drift only):   \n",
    "  \n",
    "$$G' = \\frac{1}{2N} + (1 - \\frac{1}{2N})G$$\n",
    "  \n",
    "where the first part corresponds to the probability that they both are copies of the same allele (they derive from the same ancestor) from the previous generation, and the second is the probability that they are not identical by direct descent, but are identical by state (G), which is the homozygosity value for the population.   \n",
    "   \n",
    "$$H' = 1 - G'$$\n",
    "Solving from the above expression it derives that  \n",
    "$$H' = (1-\\frac{1}{2N})H$$\n",
    "The probability that two alleles will be different by state decays geometrically:\n",
    "$$H_{t} = H_{0}(1-\\frac{1}{2N})^t$$\n",
    " \n",
    "For instance, the time for heterozygosity to half:\n",
    "$$\\frac{H_{0}}{2} = H_{0}(1-\\frac{1}{2N})^t$$\n",
    "Solving for t we have that \n",
    "$$t_{\\frac{1}{2}} = \\frac{-ln2}{ln(1-\\frac{1}{2N})}$$\n",
    "Since $$ln(1+x) \\approx{x}$$\n",
    "\n",
    "$$t_{\\frac{1}{2}} = 2Nln(2)$$\n",
    "\n",
    "> How do organisms maintain diversity despite the effect of genetic drift?"
   ]
  },
  {
   "cell_type": "markdown",
   "metadata": {},
   "source": [
    "## Adding mutation\n",
    "\n",
    "At **equilibrium between mutation and drift**, the probability that two alleles drawn from the population are the same is:  \n",
    "  \n",
    "$$G' = \\frac{1}{1+4Nu}$$\n",
    "   \n",
    "Easily derived as follows:  \n",
    "  \n",
    "$$G^{m'} = (1-u)^2(\\frac{1}{2N} + (1-\\frac{1}{2N})G)$$  \n",
    "  \n",
    "given that u is very small and N can be pretty large, we can ignore $u^2$ and $\\frac{u}{N}$, which leads us to   \n",
    "  \n",
    "$$G^{m'} \\approx \\frac{1}{2N} + (1 - \\frac{1}{2N})G - 2uG$$  \n",
    "  \n",
    "Since H = 1 - G  \n",
    "*(where H is heterozygosity, or the probability that two alleles drawn by the population will be different by state)*\n",
    "  \n",
    "$$H' \\approx (1-\\frac{1}{2N})H + 2u(1-H) $$\n",
    "  \n",
    "Then the change in H in a single generation is  \n",
    "  \n",
    "$$\\Delta(H) =  -\\frac{1}{2N}H + 2u(1-H)$$\n",
    "  \n",
    "Since at equilibrium $\\Delta(H') = 0$, we derive that  \n",
    "  \n",
    "$$H_{eq} = \\frac{4Nu}{1+4Nu}$$  \n",
    "from which it derives that $$G_{eq} = \\frac{1}{1+4Nu}$$  \n",
    "  \n",
    "The parameter 4Nu is also known as $\\theta$, which determines the level of variation under the neutral model.   \n",
    "As shown here, $\\theta$ can be derived from the level of homozygosity (G). This derivation follows the approach taken by J.H. Gillespie in [Population Genetics. A concise guide](www.ib.usp.br/genevol/images/papers/gillespie.pdf)."
   ]
  },
  {
   "cell_type": "markdown",
   "metadata": {},
   "source": [
    "## Molecular Evolution  \n",
    "\n",
    "$\\rho$ is the rate of substitution   \n",
    "\n",
    "u is the mutation rate to neutral alleles\n",
    "\n",
    "For example, between *Drosophila melanogaster* and *Drosophila erecta* there are 36 substitutions in a genomic region of 768 nucleotides. Then we have:  \n",
    "\n",
    "$\\rho =  \\frac{36}{2*23,000,000*768} = 10^{-09}$  \n",
    "\n",
    "Surprisingly, in general $\\rho$ = u\n",
    "\n",
    "- **Derivation:**\n",
    "Each generation, 2Nu new mutations enter the population. Larger populations will have more mutations, as u is fixed.  \n",
    "The fraction of mutations that - on average - will neutrally fix is $\\frac{1}{2N}$. This is due to the fact that the chance that any particular allele will fix in a population is equal to its frequency, which is $\\frac{1}{2N}$ for a new mutation.  \n",
    "Thus, the average rate of substitution, $\\rho$, is $2Nu * \\frac{1}{2N}$ or  \n",
    "$\\rho = u$\n",
    "\n",
    "This means that the rate of substitution of neutral alleles is equal to the neutral mutation rate. \n",
    "**Although the strength of genetic drift depends on the population size, the rate of substitution does not**. This is due to the fact that the number of mutations entering the population each generation also depends on population size and cancels out drift's dependency on population size when deriving the rate of substitution."
   ]
  },
  {
   "cell_type": "markdown",
   "metadata": {},
   "source": [
    "- ### Positive Selection"
   ]
  },
  {
   "cell_type": "markdown",
   "metadata": {},
   "source": [
    "How much selection is there out there?    \n",
    "\n",
    "Bad mutations are highly frequent.   \n",
    "\n",
    "Very bad dominant mutations are wiped out by the population e.g. at conception.  \n",
    "Bad mutations that are recessive stick around a bit longer in the population, as it's very hard to get rid of them when they are at low frequency. For example, if a deleterious mutation has 1% frequency in the population, only 1 out of 10000 individuals will suffer from its effect (0.01^2).  \n",
    "\n",
    "> **Extra credit:** *Can you calculate (analytical method) or simulate (numerical method) how many generations would it take on average for an allele that has 5% fitness advantage to reach 50% frequency starting as a het in 1 individual in a population of a thousand individuals?*  \n",
    "\n",
    "Positive selection has to do with the increase in frequency of alleles associated with an advantageous fitness effect, i.e. beneficial alleles will *sweep* in the population at high frequency. \n",
    "Classically, positive selection refers to novel advantageous alleles increasing in frequency in the population. However, recent literature has challenged this view, and positive selection might be more often associated with alleles already present in the population - from standing genetic variation - providing a fitness (phenotypic) advantage in a novel environment. For instance, the alleles associated with human **lactase tolerance** increased in frequency after the development of agriculture in the neolithic.  \n",
    "\n",
    "Positive selection is often studied in its classical **hard sweep** version, where an allele arising in a specific haplotype goes to rapid fixation (i.e. increases in frequency until reaches homozygosity), bringing at high frequency the whole haplotype it belongs to. \n",
    "\n",
    "The recently developed concept of **soft sweep** [Hermisson and Pennings, 2005](http://www.ncbi.nlm.nih.gov/pubmed/15716498) has to do with the beneficial mutation occurring on different haplotypes, and increasing independently in frequency, resulting in non-complete fixation of a specific haplotype. From a coalescent (backwards) perspective, the beneficial mutation has more than one ancestor, from a forward-time perspective more than one allele increase in frequency in the population due to selection. \n",
    "\n",
    "The key parameter for the occurrence of hard and soft sweeps is believed to be the waiting time until the mutation arises in the population.  \n",
    "Hard sweeps happen if  \n",
    "$N_e\\mu_{adv} \\ll 1$  \n",
    "i.e. if the per-generation number of adaptive mutations is very low.   \n",
    " \n",
    "For instance, if  \n",
    "$N_e\\mu_{adv} = 0.01$  \n",
    "it means that it would take 100 generations until one adaptive mutation will arise.  \n",
    "In this case, a hard sweep is expected to occur, and it will take a very long time before the next advantageous mutation will happen.   \n",
    "\n",
    "On the contrary, soft sweeps are expected to happen if  \n",
    "$N_e\\mu_{adv} \\geq 1$. \n",
    "\n",
    ">You can check out this video by Stanford professor **Dmitri Petrov** that explains this very concept:  \n",
    "  \n",
    "<a href=\"https://youtu.be/rOCFBunVa9A?t=5m15s\" target=\"_blank\"><img src=\"http://img.youtube.com/vi/rOCFBunVa9A/0.jpg\" \n",
    "alt=\"IMAGE ALT TEXT HERE\" width=\"240\" height=\"180\" border=\"10\" /></a>\n",
    "\n",
    "> The amount of neutral polymorphism in the population, which is a function of the rate of coalescence of different alleles in the population, has been used to measure effective population size. However, this can be misleading, since population bottlenecks can dramatically affect the rate of coalescence. Despite large population size, even remote bottlenecks bias population size estimates. The time to coalescence (inversely proportional to population size) will indeed be proportional to the time to a bottleneck. On the one hand, rapid adaptations measures current events, whereas neutral polymorphism gives a measure of bottlenecks that happened in the past. These two measures (i.e. measures of adaptation and population size) refer to two different time scales. Neutral diversity can therefore be a serious underestimate of current (actual) population size.  \n",
    "\n",
    "To provide an example of how we might have been underestimating population size, suffices to mention that $N_e$ in humans is calculated to be 20000.\n",
    "\n",
    "In hard sweeps we expect \n",
    "* Dips in neutral diversity  \n",
    "* Excess of low-frequency SNPs \n",
    "* One frequent long haplotype \n",
    "\n",
    "In soft sweeps we expect\n",
    "* Potentially high diversity\n",
    "* SNP frequencies not skewed\n",
    "* Several frequent haplotypes\n",
    "\n",
    "Metrics that measure haplotype homozygosity can therefore effectively detect soft sweeps [Garud et al. 2015](chrome-extension://oemmndcbldboiebfnladdacbdfmadadm/http://petrov.stanford.edu/pdfs/0110.pdf).  \n",
    "\n",
    "Positive selection is a fast process, which increases the frequency of a given haplotype associated with a beneficial trait, bringing to fixation large regions of genome in linkage disequilibrium with the advantageous mutation. "
   ]
  },
  {
   "cell_type": "markdown",
   "metadata": {},
   "source": [
    "- ### Purifying (Negative) Selection  \n",
    "Deleterious mutations continuously emerge, but they get purged by purifying selection. Strong purifying selection maintains low genetic diversity at sites that cannot \"afford\" polymorphisms, since any new mutation would be detrimental. Housekeeping genes and genes that are important for basic biologicial functions (development, reproduction, sensory systems, immune system, etc.) are all under very strong purifying selection. Once selective pressure is relieved from genes controlling any of these functions, then they accumulate detrimental mutations, in a process named **relaxed purifying selection**. For example, organisms living in caves, such as the Mexican cave fish *Astyanax mexicanus* accumulate several deleterious mutations in genes controlling eye development and pigment syntesys, and often become blind and albino (e.g. [Hinaux et al., 2013](http://journals.plos.org/plosone/article?id=10.1371/journal.pone.0053553)). There are evidences suggesting that in the human genome genes involved in olfactory perception and proteasome underwent relaxed purifying selection [Somel et al., 2013](http://www.ncbi.nlm.nih.gov/pmc/articles/PMC3708504/).\n",
    "As opposed to positive selection, negative selection is a long process, and in general lasts enough for recombination to reduce the linkage of neutral or deleterious mutations associated with the selected locus (however, see below background selection). "
   ]
  },
  {
   "cell_type": "markdown",
   "metadata": {},
   "source": [
    "- ### Genetic Draft (hitchhiking)\n",
    "According to the neutral theory of molecular evolution, most mutations are deleteriour or neutral. Very few are adaptive. Deleterious mutations are removed from the gene pool by purifying selection, while neutral ones are subjected to the laws of genetic drift. When a neutral (or even deleterious) mutation goes to fixation due to linkage disequilibrium with a selected locus, we define this event as genetic draft. Genetic draft has important implications, since it is the reason why even neutral polymorphisms can reach fixation. Since recombination breaks the linkage between neutral (or deleterious) and selected loci, genetic draft is biologically important in regions with decreased recombination, such as the human Y chromosome."
   ]
  },
  {
   "cell_type": "markdown",
   "metadata": {},
   "source": [
    "- ### Background Selection\n",
    "Another form of linked selection happens when neutral variation is lost due to linkage with a negative selected locus, i.e. there is a loss of genetic variation that might be mistaken as negative selection. Unlike genetic draft, where neutral variation are preserved (even fixed) due to hitchhiking with positively selected variants, background selection is associated with the loss of neutral variants due to linkage with a deleterious variant, purged by negative selection. The genetic diversity loss associated with background selection can be misinterpreted as a decrease in effective population."
   ]
  },
  {
   "cell_type": "markdown",
   "metadata": {},
   "source": [
    "- ### Balancing Selection\n",
    "Balancing selection maintains advantageous diversity in populations and contributes to phenotypic diversity. Unlike positive and purifying selection, which result in population homogenization, balancing selection maintains allelic diversity and enhances genetic diversity in populations (cit. [Andrés, 2011](chrome-extension://oemmndcbldboiebfnladdacbdfmadadm/http://onlinelibrary.wiley.com/store/10.1002/9780470015902.a0022863/asset/a0022863.pdf?v=1&t=iohbqlmc&s=5c1491421fd24dd56dc50a6b3b315f1430f65a51)). Unlike neutral variation, balancing selection not only maintains high genetic diversity, but it also results in increased phenotypic diversity.  \n",
    "Balancing selection is achieved through a set of mechanisms such as *overdominance*, where heterozygotes are more fit than any of the homozygotes. A classical example is the $\\beta$-globin gene in groups suffering malaria. Each homozygte suffers either anemia or malaria, respectively, while the heterozygotes are protected by malaria. The high fitness of the heterozygotes maintains the mutant allele at high frequency.  \n",
    "Another mechanism resulting in balancing selection is *frequency-dependent selection*, where the fitness associated with an allele changes with its frequency, like in the self-incompatibility system in plants, possibly the MHC system in vertebrates. Spatial and temporal differential fitness advantage of distinct alleles can also contribute to balancing selection. Finally, antagonistic pleiotropism can also contribute to balancing selection, in the case when one gene affects multiple phenotypes and one allele is more beneficial for one trait and less for the other. The final relative frequency of the alleles will depend on the fitness contribution of each allele. Balancing selection leaves a characteristic site frequency spectrum signature, as intermediate frequency alleles become more prevalent in the population . "
   ]
  },
  {
   "cell_type": "markdown",
   "metadata": {},
   "source": [
    "> **Exercise:** calculate the relationship between N and t during drift (no mutation), using the drift and loop functions from above"
   ]
  },
  {
   "cell_type": "markdown",
   "metadata": {},
   "source": [
    "## Day 3. Measuring genetic diversity"
   ]
  },
  {
   "cell_type": "markdown",
   "metadata": {},
   "source": [
    "A very important measure of genetic variation among individuals in a population is $\\pi$ (or $\\theta_{\\pi}$), which is the *average pairwise nucleotide difference* among individual sequences, that is:  \n",
    "\n",
    "$$\\pi = \\frac{\\sum_{i,j=1}^{N}d_{i-j}}{{N}\\choose{2}}$$ \n",
    "  \n",
    "The denominator computes all the possible pairs in a group of N sequences (n choose k).   \n",
    "  \n",
    "Another important measure is $S$, which is the number of variable sites in a given sequence, for the whole population.   \n",
    "For instance, in the following set of sequences:  \n",
    "\n",
    "|Individual| Sequence       |\n",
    "|:----:| :-------------: |\n",
    "|1. | ATGTTACATACGTTGTAGAGCTCA |\n",
    "|2. | ACG**A**TACATACGTTGTAGA**C**CTCA |\n",
    "|3. | ACG**A**TACATACGTTGTAGAGCTCA |\n",
    "|4. | ACGTTACATACGT**A**GTAGAGCTCA |\n",
    "|5. | ACGTTACATACGT**A**GTAGAGCT**G**A |\n",
    "|6. | ACGTTACATACGT**A**GTAGAGCT**G**A |  \n",
    "\n",
    "$$\\pi = \\frac{2+1+1+2+2+1+3+4+4+2+3+3+1+1}{{6}\\choose{2}} = 2 $$   \n",
    "There are 4 segregating sites ($S = 4$)"
   ]
  },
  {
   "cell_type": "markdown",
   "metadata": {},
   "source": [
    "- ### Tajima's D  \n",
    "\n",
    "In a purely neutral population, there is an expectation for $\\pi$ is related to $S$, and that expectation (under neutrality) is actually $\\theta$ (i.e. the Watterson estimator, also indicated with $\\theta_{k}$ or $\\theta_{w}$).  \n",
    "$\\theta$ = 4Nu   \n",
    "it describes the nucleotide diversity of the population.   \n",
    "\n",
    "In this respect, we (re)define $\\theta$ as:\n",
    "  \n",
    "$$\\theta = \\frac{S}{\\sum_{i=1}^{n-1}\\frac{1}{i}}$$  \n",
    "The denominator is the (n-1)th harmonic number.   \n",
    "This estimate of $\\theta$ is based on coalescent theory, and beyond the scope of this class.\n",
    "\n",
    "where n is the number of sequences that we're looking at.\n",
    "\n",
    "Under neutrality, $\\pi$ is expected to be equal to $\\theta$.   \n",
    "**More formally, according to the neutral theory, $\\pi$ and $\\theta$ should be equivalent in a regimen of drift-mutation equilibrium.** \n",
    "\n",
    "How much $\\pi$ (observed) is differing from $\\theta$ (expected under neutrality) is indicated by **Tajima's D:**\n",
    "  \n",
    "$$T_{D} = \\pi - \\theta$$  \n",
    "Tajima's D is a normalized version of this difference.  \n",
    "For the sequence above, $T_{D} = 0.25$, which means that the observed variation among individuals ($\\pi$) is close to that expected by neutral evolution, i.e. $\\pi \\approx \\theta$. A high Tajima's D would instead indicate a high level of average heterozygosity, suggestive of balancing selection or recent population contraction, where during population shrinkage most of the intermediate variation among individuals is lost.  \n",
    "\n",
    "Let's check this simple example:  \n",
    "\n",
    "|Individual| Sequence       |\n",
    "|:----:| :-------------: |\n",
    "|1. | AGATCGCT**G**C**A**A**T** |\n",
    "|2. | AGATCGCT**T**C**A**A**T** |\n",
    "|3. | AGATCGCT**T**C**A**A**T** |\n",
    "|4. | AGATCGCT**T**C**G**A**T** |\n",
    "|5. | AGATCGCT**T**C**G**A**G** |\n",
    "\n"
   ]
  },
  {
   "cell_type": "code",
   "execution_count": 38,
   "metadata": {
    "collapsed": false
   },
   "outputs": [
    {
     "data": {
      "image/png": "[encoded data removed]",
      "text/plain": [
       "<matplotlib.figure.Figure at 0x10ae09590>"
      ]
     },
     "metadata": {},
     "output_type": "display_data"
    }
   ],
   "source": [
    "x = (0.0, 1.0, 2.0, 3.0, 4.0)\n",
    "y = (1.0, 5.0, 3.0, 1.0, 0.0)\n",
    "\n",
    "xlabs = ('0', '1', '2', '3', '4')\n",
    "\n",
    "fig = plt.figure(figsize=(9,6))\n",
    "\n",
    "plt.bar(x, y, align='center', alpha=0.5, color = 'k')\n",
    "\n",
    "plt.xticks(x, xlabs)\n",
    "plt.ylabel('Frequency')\n",
    "plt.ylabel('pairwise differences')\n",
    "plt.title('pairwise difference distribution')\n",
    "plt.ylim((0,7))\n",
    "plt.grid(True)\n",
    "\n",
    "plt.show()"
   ]
  },
  {
   "cell_type": "markdown",
   "metadata": {},
   "source": [
    "This tree represents the distances:  \n",
    "(1)-(2,3)-(4)-(5)  \n",
    "This population seems to behave in a neutral-like manner. The bulk of the changes have intermediate frequencies.  \n",
    "\n",
    "> What do you expect Tajima's D to be in this case?\n",
    "\n",
    "Imagine an event that removed most of the variation: either the population was very small for a long time and then grew, or there was a selective sweep that removed a lot of variation. Sequence 4 from above swept:  \n",
    "\n",
    "|Individual| Sequence       |\n",
    "|:----:| :-------------: |\n",
    "|1. | AGATCGCT**T**CGA**G** |\n",
    "|2. | AGATCGCT**T**CGA**T** |\n",
    "|3. | AGATCGCT**T**CGA**T** |\n",
    "|4. | AGATCGCT**T**CGA**T** |\n",
    "|5. | AGATCGCT**T**CGA**T**"
   ]
  },
  {
   "cell_type": "code",
   "execution_count": 39,
   "metadata": {
    "collapsed": false
   },
   "outputs": [
    {
     "data": {
      "image/png": "[encoded data removed]",
      "text/plain": [
       "<matplotlib.figure.Figure at 0x1046e27d0>"
      ]
     },
     "metadata": {},
     "output_type": "display_data"
    }
   ],
   "source": [
    "x = (0.0, 1.0, 2.0, 3.0, 4.0)\n",
    "y = (6.0, 4.0, 0.0, 0.0, 0.0)\n",
    "\n",
    "xlabs = ('0', '1', '2', '3', '4')\n",
    "\n",
    "fig = plt.figure(figsize=(9,6))\n",
    "\n",
    "plt.bar(x, y, align='center', alpha=0.5, color = 'k')\n",
    "\n",
    "plt.xticks(x, xlabs)\n",
    "plt.ylabel('Frequency')\n",
    "plt.ylabel('pairwise differences')\n",
    "plt.title('pairwise difference distribution')\n",
    "plt.ylim((0,7))\n",
    "plt.grid(True)\n",
    "\n",
    "plt.show()"
   ]
  },
  {
   "cell_type": "markdown",
   "metadata": {},
   "source": [
    "It's relative tree will then be:  \n",
    "(2,3,4,5)-(1)\n",
    "\n",
    "> What do you expect Tajima's D to be in this case?  \n",
    "\n",
    "Let's consider another case:  \n",
    "\n",
    "|Individual| Sequence       |\n",
    "|:----:| :-------------: |\n",
    "|1. | A**GA**TCGCT**T**CGA**T** |\n",
    "|2. | A**GA**TCGCT**T**CGA**G** |\n",
    "|3. | A**GA**TCGCT**T**CGA**G** |\n",
    "|4. | A**CC**TCGCT**A**CGA**T** |\n",
    "|5. | A**CC**TCGCT**A**CGA**T**\n",
    "\n",
    "Here we have two common haplotypes: 1 and 2 vs. 3-4-5."
   ]
  },
  {
   "cell_type": "code",
   "execution_count": 40,
   "metadata": {
    "collapsed": false
   },
   "outputs": [
    {
     "data": {
      "image/png": "[encoded data removed]",
      "text/plain": [
       "<matplotlib.figure.Figure at 0x10489cd10>"
      ]
     },
     "metadata": {},
     "output_type": "display_data"
    }
   ],
   "source": [
    "x = (0.0, 1.0, 2.0, 3.0, 4.0)\n",
    "y = (2.0, 2.0, 0.0, 2.0, 4.0)\n",
    "\n",
    "xlabs = ('0', '1', '2', '3', '4')\n",
    "\n",
    "fig = plt.figure(figsize=(9,6))\n",
    "\n",
    "plt.bar(x, y, align='center', alpha=0.5, color = 'k')\n",
    "\n",
    "plt.xticks(x, xlabs)\n",
    "plt.ylabel('Frequency')\n",
    "plt.ylabel('pairwise differences')\n",
    "plt.title('pairwise difference distribution')\n",
    "plt.ylim((0,7))\n",
    "plt.grid(True)\n",
    "\n",
    "plt.show()"
   ]
  },
  {
   "cell_type": "markdown",
   "metadata": {},
   "source": [
    "This distribution is bimodal, on the left there is the variation within the group, on the right there is the variation between the groups.   \n",
    "The diagram that follows is:   \n",
    "(4,5)----(2,3)-(1)\n",
    "\n",
    "> What do you expect Tajima's D to be in this case?"
   ]
  },
  {
   "cell_type": "markdown",
   "metadata": {},
   "source": [
    "|Tajima's D|   Interpretation|\n",
    "|:--------:| :----------------------------- |\n",
    "|T's D = 0 |    No evidence of selection; mutation/drift equilibrium    |\n",
    "|T's D > 0 |    Balancing selection; sudden population contraction with following loss of intermediate frequency variations; lack or rare alleles    |\n",
    "|T's D < 0  |   Excess of rare alleles; region under selection; population expansion after bottleneck; linkage to selected region    |\n",
    "\n",
    "> What could explain a genome-wide negative Tajima's D?\n",
    "\n",
    ">**Ongoing debate: recombination rate and $\\pi$ are positively correlated.**   \n",
    "This scenario has two possible explanations:   \n",
    "- #### Frequent selective sweeps and following hitchhiking\n",
    "- #### Background selection (if adapative variation are extremely rare), which stands on the following facts:  \n",
    "  1. Bad mutations are highly frequent  \n",
    "  2. Once bad mutations happen, the whole allele will be doomed to decrease in frequency and eventually disappear (only the more common neutral variants are left)  \n",
    "  3. The size of the regions that will disappear depends on recombination rate   "
   ]
  },
  {
   "cell_type": "markdown",
   "metadata": {},
   "source": [
    "- ### dN/dS \n",
    "\n",
    "![Codon Code](http://www.buzzle.com/images/diagrams/rna-codon-chart.jpg)\n",
    "\n",
    "Note that a lot mutations happening in intergenic regions, introns and pseudogenes have little phenotypic effect (neutral?).  \n",
    "Note that several changes in the third position of a codon are synonymous (neutral?). \n",
    "Note that all the changes of the second position of each codon are non-synonymous. Non-synonymous changes are often times non-neutral.\n",
    "\n",
    "> **Question**: if all mutations were to accumulate neutrally, which would be more likely to be more abundant, synonymous or non-synonymous mutations?\n",
    "\n",
    "**The rate of accumulation of synonymous mutations can be used as \"neutral mutation rate\" to scale for mutation rate differences.**   \n",
    "\n",
    "*dN* is the number of non-synonymous changes per non-synonymous site and *dS* is the number of synonymous changes per synonymous site.\n",
    "  \n",
    "I will use the same example shown by Mohammed Noor (see link to video below) in class 8-6:  \n",
    "\n",
    "|| Sequence       |\n",
    "|:----:| :-------------: |\n",
    "|Sample 1. | ACT CCG GGG CCC |\n",
    "|Sample 2. | AC**G** CCG GG**C** C**T**C |\n",
    "\n",
    "||Position|\n",
    "|:----:| :-------------: |\n",
    "|Syn | 001 001 001 001 |\n",
    "|Non-Syn | 110 110 110 110 |\n",
    "\n",
    "||Syn|Non-Syn|\n",
    "|:----|:----:|:-------------:|\n",
    "|Sites | 4|8|\n",
    "|Changes | 2|1|  \n",
    "    \n",
    "$$dN = 1/8$$  \n",
    "$$dS = 2/4$$  \n",
    "$$\\frac{dN}{dS} = 0.25$$  \n",
    "\n",
    "If all changes were neutral, we would expect *dN/dS* to be close to 1. This means no selection on non-synonymous changes.  \n",
    "When *dN/dS* < 1 it means that non-synonymous changes have been constrained, there are fewer than expected by neutrality. With *dN/dS* > 1 is a strong indication for recent and powerful positive selection. This would mean that in one region there would be an accumulation of functional changes. Evolution of this type requires multiple aminoacid changes in a gene. \n",
    "\n",
    "> Try to calculate *dN/dS* for this sequence:\n",
    "\n",
    ">|| Sequence (Aspm)      |\n",
    ">|:----:| :-------------: |\n",
    ">|Human | CGT GGC GCA CTT GTA |\n",
    ">|Chimp | CGT CGC CCA CTT GTT |\n",
    "  \n",
    "> **Question:** does it matter where in the gene we calculate the *dN/dS* ratio?\n",
    "\n",
    "*dN/dS* is a bit too conservative and generates a lot of false negatives. "
   ]
  },
  {
   "cell_type": "markdown",
   "metadata": {},
   "source": [
    "- ### The McDonald Kreitman Test (MKT)\n",
    "This test still looks at synonymous and non-synonymous changes, but it does it within and between species. Additionally, it does not correct for synonymous and non-synonymous sites. The basic assumption is that the ratio between synonymous and non-synonymous changes between species should be constant across time.  \n",
    "This is due to the following assumptions of the neutral theory:  \n",
    "\n",
    "    1. Most of the non-deleterious non-synonymous changes are neutral  \n",
    "    2. They arise at a constant rate  \n",
    "    3. Since they are neutral, they fix at the same rate as the synonymous: 1/2N\n",
    "\n",
    "|| Sequence       |\n",
    "|:----:| :-------------: |\n",
    "|Species1, ID 1. | CTT ACT TAT ACC CGT |\n",
    "|Species1, ID 2. | CTG ACT TAT ACC CGT |\n",
    "|Species1, ID 3. | CTG ACT TCT ACC CGT |\n",
    "|Species1, ID 4. | CTG ACT TCT ACA CGT |\n",
    "\n",
    "|| Sequence       |\n",
    "|:----:| :-------------: |\n",
    "|Species2, ID 1. | ATG ACC TCT ACC CGT |\n",
    "\n",
    "||Fixed Btw|Polym Within|\n",
    "|:----|:----:|:-------------:|\n",
    "|Non-Syn | 1|1|\n",
    "|Syn | 1|2|  \n",
    "  \n",
    "More generally,  \n",
    "\n",
    "||Fixed Btw|Polym Within|\n",
    "|:----|:----:|:-------------:|\n",
    "|Non-Syn | A|B|\n",
    "|Syn | C|D|  \n",
    "  \n",
    "Neutrality expects that *A/C = B/D*, i.e. the site equally accumulates neutral variants both within and between species. \n",
    "  \n",
    "For example, \n",
    "\n",
    "|SENP1|Fixed Btw|Polym Within|\n",
    "|:----|:----:|:-------------:|\n",
    "|Non-Syn | 4|1|\n",
    "|Syn | 1|5|\n",
    "gene important for hypoxia  \n",
    "4:1 >> 1:5, indicative of strong positive selection\n",
    "  \n",
    "\n",
    "|CIAS1|Fixed Btw|Polym Within|\n",
    "|:----|:----:|:-------------:|\n",
    "|Non-Syn | 5|1|\n",
    "|Syn | 10|2|  \n",
    "gene important for autoinflammatory response  \n",
    "5:10 = 1:2, meeting the expectations for neutrality\n",
    "  \n",
    "What happens in this case?\n",
    "\n",
    "|AGT|Fixed Btw|Polym Within|\n",
    "|:----|:----:|:-------------:|\n",
    "|Non-Syn | 1|3|\n",
    "|Syn | 13|1|   \n",
    "gene involved in hypertension and coronary heart disease    \n",
    "1:13 << 3:1  \n",
    "One possible explanation is the persistence of recessive bad alleles, another one is overdominance.  \n",
    "However, check out <a heref\"http://www.pnas.org/content/110/21/8615.full\">Messer and Petrov</a> for an asymptotic extension of the MKT. \n",
    "\n",
    "> Practice the MKT with the following sequences:  \n",
    "\n",
    ">|| Sequence       |\n",
    ">|:----:| :-------------: |\n",
    ">|Human 1 | TCT CCT ACA GGG CGT CTA GTT|\n",
    ">|Human 2 | TCT CCT ACA GGG CGT CTA GTT|\n",
    ">|Human 3| TCT CCT ACT GGG CGT CTA ATT|\n",
    ">|Human 4 | TCT CCT ACT GGG CGT CTA GTT |\n",
    ">|Human 5| TCT CCT ACA GGG CGT CTA GTT|\n",
    ">|Human 6 | TCT CAT ACA GGG CGT CTA GTT|\n",
    "\n",
    ">|| Sequence       |\n",
    ">|:----:| :-------------: |\n",
    ">|Chimp 1 | TAT CCT ACA GGC CGT CTT GTT|\n",
    "\n",
    "Many of these concepts are simply and clearly introduced in the \"Introduction to Genetics and Evolution\" class, by professor **Mohamed Noor**:   \n",
    "   \n",
    "<a href=\"https://www.youtube.com/watch?v=UeWU1yOz8lQ&list=PL4n6Uk3aii8iottl_J2OWrn-8RVveZWri\" target=\"_blank\"><img src=\"http://img.youtube.com/vi/UeWU1yOz8lQ/0.jpg\" \n",
    "alt=\"IMAGE ALT TEXT HERE\" width=\"240\" height=\"180\" border=\"10\" /></a>  "
   ]
  },
  {
   "cell_type": "markdown",
   "metadata": {},
   "source": [
    "## Day 4. [An in Silico Model to Simulate the Evolution of Biological Aging](http://biorxiv.org/content/early/2016/01/26/037952#An in Silico Model to Simulate the Evolution of Biological Aging) "
   ]
  },
  {
   "cell_type": "markdown",
   "metadata": {},
   "source": [
    "- ### Coalescence "
   ]
  },
  {
   "cell_type": "markdown",
   "metadata": {},
   "source": [
    "As seen above, at equilibrium:  \n",
    "$$H_{eq} = \\frac{4Nu}{1+4Nu}$$  \n",
    "from which it derives that the probability that two alleles are the same is:   \n",
    "$$G_{eq} = \\frac{1}{1+4Nu}$$  \n",
    "$\\theta = 4Nu$ is the level of variation under the neutral model  \n",
    "**A coalescent is the lineage (genealogy) of alleles in a sample traced back in time to the common ancestor allele.**"
   ]
  },
  {
   "cell_type": "markdown",
   "metadata": {},
   "source": [
    "![Coalescence tree](https://github.com/dvalenzano/Teaching/blob/master/Coalescence.jpg)"
   ]
  },
  {
   "cell_type": "markdown",
   "metadata": {},
   "source": [
    "We cannot know t<sub>1</sub>, t<sub>2</sub> and t<sub>3</sub>.  \n",
    "However, we can know that the total time in the coalescence depends upon them:  \n",
    "T<sub>c</sub> = 4 x t<sub>1</sub> + 3 x (t<sub>2</sub> - t<sub>1</sub>) + 2 x (t<sub>3</sub> - t<sub>2</sub>)   \n",
    "              = 4T<sub>4</sub> + 3T<sub>3</sub> +2T<sub>2</sub>  \n",
    "                  \n",
    "T<sub>i</sub> is the time to reduce a coalescencent with i alleles to one with i-1 alleles"
   ]
  },
  {
   "cell_type": "markdown",
   "metadata": {},
   "source": [
    "The mutations accumulating in the coalescent is T<sub>c</sub>u"
   ]
  },
  {
   "cell_type": "markdown",
   "metadata": {},
   "source": [
    "We will show that for four alleles, the expected T<sub>c</sub> is:  \n",
    "\n",
    "E{T<sub>c</sub>} =  $$4N(1 + \\frac{1}{2} + \\frac{1}{3}) = \\frac{44N}{6}$$\n",
    "  \n",
    "which implies that on average   \n",
    "  \n",
    "uE{T<sub>c</sub>} =  $$\\theta\\frac{11}{6}$$  \n",
    "  \n",
    "Each mutation in the coalescent contributes to the number of segregating sites.   \n",
    "For four alleles:   \n",
    "E{S<sub>4</sub>} =  $$\\theta(\\frac{11}{6})$$"
   ]
  },
  {
   "cell_type": "markdown",
   "metadata": {},
   "source": [
    "For this reason, S<sub>4</sub>$\\frac{6}{11}$ is a good estimator of $\\hat\\theta$\n",
    "   \n",
    "### What is the expected time to coalescence for a sample of 4 alleles?  \n",
    "The first coalescent is called T<sub>n</sub>, the last is T<sub>2</sub>  "
   ]
  },
  {
   "cell_type": "markdown",
   "metadata": {},
   "source": [
    "For the first ancestral generation, allele 1 and 2 have a different common ancestor with probability:  \n",
    "  \n",
    "$$ 1 - \\frac{1}{2N} = \\frac{2N - 1}{2N}$$  \n",
    "  \n",
    "The probability that a third allele does not share an ancestor with the first two is:  \n",
    "  \n",
    "$$ \\frac{2N - 2}{2N}$$   \n",
    "  \n",
    "Therefore, the probability that the first three alleles do not share a common ancestor is:  \n",
    "  \n",
    "$$\\frac{2N - 1}{2N} \\times \\frac{2N - 2}{2N}$$  \n",
    "  \n",
    "Therefore, the probability that the n alleles all have different ancestors is:  \n",
    "  \n",
    "$$(1 - \\frac{1}{2N})(1-\\frac{2}{2N}) . . . (1 - \\frac{n-1}{2N}) \\approx 1 - \\frac{1}{2N} - \\frac{2}{2N} - ... -\\frac{n-1}{2N}$$  \n",
    "  \n",
    "*All the terms of order N<sup>-2</sup> and smaller have been ignored *  \n",
    "  \n",
    "The probability for the coalescent to occur is 1 - the probability for it not to occur:  \n",
    "  \n",
    "$$\\frac{1+2+3...+(n-1)}{2N} = \\frac{n(n-1)}{4N}$$  \n",
    "  \n",
    "The probability distribution of the time until the first coalescence is a geometric distribution with probability of success  \n",
    "  \n",
    "p = $$\\frac{1+2+3...+(n-1)}{2N} = \\frac{n(n-1)}{4N}$$   \n",
    "  \n",
    "the mean of the geometric distribution is the reciprocal of the probability of success:  \n",
    "  \n",
    "E{T<sub>n</sub>} =  $$\\frac{4N}{n(n-1)}$$  \n",
    "which corresponds to the mean time until all the n alleles coalesce.  \n",
    "  \n",
    "From this follows that the time to coalesce from i to i-1 alleles is:  \n",
    "  \n",
    "E{T<sub>i</sub>} =  $$\\frac{4N}{i(i-1)}$$  \n",
    "  \n",
    "The **total time** in all the branches of the coalescent is:   \n",
    "  \n",
    "T<sub>c</sub> = $$\\sum_{i=2}^{n}iT_{i}$$  \n",
    "  \n",
    "Therefore, \n",
    "  \n",
    "$$ E[T_{c}] = \\sum_{i=2}^{n}iE[T_{i}] = 4N\\sum_{i=2}^{n}\\frac{1}{i-1}$$  \n",
    "  \n",
    "Since the number of segregating sites is u times the expected time in the coalescent, we have:  \n",
    "  \n",
    "$$ E[S_{n}] = uE[T_{c}] = \\theta\\sum_{i=2}^{n}\\frac{1}{i-1} $$  \n",
    "  \n",
    "which is why:\n",
    "  \n",
    "$$\\hat\\theta = \\frac{S_{n}}{1 + \\frac{1}{2} + \\frac{1}{3} + ... + \\frac{1}{n-1}}$$  \n",
    "And this should be a good estimator of 4Nu"
   ]
  },
  {
   "cell_type": "markdown",
   "metadata": {},
   "source": [
    "- ### Game theory and a simple applications to evolutionary biology"
   ]
  },
  {
   "cell_type": "markdown",
   "metadata": {},
   "source": [
    "*Game theory is the mathematical study of interaction among independent, self-interested agents*  \n",
    "A few considerations  \n",
    "- often the best thing to do depends on what others are doing\n",
    "- the fitness of a genotype depends on the frequencies of other genotypes in the population"
   ]
  },
  {
   "cell_type": "markdown",
   "metadata": {},
   "source": [
    "Sample payoff matrix for the Hawk-Dove game (prisoner's dilemma):  \n",
    "\n",
    "||Hawk |Dove |\n",
    "|:----|:------:|:------:|\n",
    "|**Hawk** |   -2|   2|\n",
    "|**Dove** |   0|   1|   \n",
    "\n",
    "||Hawk |Dove |\n",
    "|:----|:------:|:------:|\n",
    "|**Hawk** |   -2, -2|   2, 0|\n",
    "|**Dove** |   0, 2|   1, 1|  \n",
    "\n",
    "  \n",
    "Agents can choose to use pure strategies (e.g. always hawk) or mixed strategies, as in *hawk* with probability p and *dove* with probability 1-p  \n",
    "  \n",
    "Formally, we can express the payoff (fitness), as follows:  \n",
    "  \n",
    "W(A) = K + p(A)E(A,A) + p(B)E(A,B)  \n",
    "W(B) = K + p(A)E(B,A) + p(B)E(B,B)  \n",
    "  \n",
    "After the encounter the individuals reproduce (asexually) and pass on their genes to the next generation.  \n",
    "The number of offspring is proportional to their fitness. \n",
    "  \n",
    "With *I* as the most common phenotype and *M* as the mutant with frequency p, with p << 1:  \n",
    "  \n",
    "W(I) = K + (1-p)E(I,I) + pE(I,M)  \n",
    "W(M) = K + (1-p)E(M,I) + pE(M,M)  \n",
    "\n",
    "*I* is an **ESS** (*Evolutionary Stable Strategy*), if, for **all alternative strategies** M:  \n",
    "W(I) > W(M) when p << 1  \n",
    "That is when E(I,I) > E(M,I)  \n",
    "or,  \n",
    "E(I,I) = E(M,I) and E(I,M) > E(M,M)\n",
    "\n",
    "> Given this definition, what is the ESS between H and D in the above game?  "
   ]
  },
  {
   "cell_type": "markdown",
   "metadata": {},
   "source": [
    "E(H,H) < E(D,H); -2 < 0 (a population of doves will invade a population of hawks)  \n",
    "and  \n",
    "E(D,D) < E(H,D); 1 < 2 (a population of hawks will invade a population of doves)  \n",
    "\n",
    "Thus ESS for the *TCP* game (prisoner's dilemma) does not exist for *pure strategies*.   \n",
    "*ESS* have to do with (mixed strategies) resistance to invation from other strategies. \n",
    "\n",
    "> Can we find an ESS with *mixed strategies* on this game?  \n",
    "  \n",
    "*I* is a mixed strategy that adopts H with probability p and D with probability 1-p\n",
    "  \n",
    "What is p such that I is an *ESS*?\n",
    "  \n",
    "E(H,I) = E(D,I)\n",
    "  \n",
    "From the payoff table:\n",
    "  \n",
    "-2p + 2(1-p) = 0p + 1(1-p)   \n",
    "p = 1/3\n",
    "  \n",
    "Therefore we can play H with probability 1/3 and D with probability 2/3  \n",
    "  \n",
    "E(H,I) = E(D,I) = E(I,I)  \n",
    "  \n",
    "To proof that this is an *ESS*, we need to have that  \n",
    "  \n",
    "E(I,H) > E(H,H)  \n",
    "and  \n",
    "E(I,D) > E(D,D)   \n",
    "  \n",
    "E(I,H) = 1/3(-2) + 2/3(0) = -2/3 > -2  \n",
    "  \n",
    "E(I,D) = 1/3(0) + 2/3(1) = 4/3 > 1\n",
    "\n"
   ]
  },
  {
   "cell_type": "markdown",
   "metadata": {},
   "source": [
    "> What does this requires genetically?  "
   ]
  },
  {
   "cell_type": "markdown",
   "metadata": {},
   "source": [
    "Either individuals can indeed apply mixed strategies, or the population becomes polymorphic (the game is played by the gene pool)"
   ]
  },
  {
   "cell_type": "markdown",
   "metadata": {},
   "source": [
    "A famous game can be of this type:  \n",
    "  \n",
    "||Rock |Paper | Scissors |\n",
    "|:----|:------:|:------:|:------:|\n",
    "|**Rock** |   0, 0|   -1, 1| 1, -1 |\n",
    "|**Paper** |   1, -1|   0, 0| -1, 1|\n",
    "|**Scissors** | -1, 1|   1, -1| 0,0| "
   ]
  },
  {
   "cell_type": "markdown",
   "metadata": {},
   "source": [
    "The lizard *Uta stransburniana* plays a game that can be modeled as a RPS, with orange (large territories), yellow (sneakers) and blue-throated males (single female territories). Each strategies is dominant over another but not against all of them.   \n",
    "\n",
    "> what type of *ESS* do you expect in this species?\n",
    " "
   ]
  },
  {
   "cell_type": "markdown",
   "metadata": {},
   "source": [
    "Many of these examples where drawn from [Evolutionary Genetics (J. Maynard Smith)](chrome-extension://oemmndcbldboiebfnladdacbdfmadadm/https://cdn.preterhuman.net/texts/science_and_technology/nature_and_biology/Genetics/Evolutionary%20Genetics%202d%20ed%20-%20MAYNARD%20SMITH.pdf)"
   ]
  },
  {
   "cell_type": "code",
   "execution_count": null,
   "metadata": {
    "collapsed": true
   },
   "outputs": [],
   "source": []
  }
 ],
 "metadata": {
  "kernelspec": {
   "display_name": "Python 2",
   "language": "python",
   "name": "python2"
  },
  "language_info": {
   "codemirror_mode": {
    "name": "ipython",
    "version": 2
   },
   "file_extension": ".py",
   "mimetype": "text/x-python",
   "name": "python",
   "nbconvert_exporter": "python",
   "pygments_lexer": "ipython2",
   "version": "2.7.11"
  }
 },
 "nbformat": 4,
 "nbformat_minor": 0
}
